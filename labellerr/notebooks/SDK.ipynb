{
 "cells": [
  {
   "cell_type": "markdown",
   "id": "d6488b6b",
   "metadata": {},
   "source": [
    "# Getting Started with Labellerr SDK\n",
    "\n",
    "This notebook demonstrates how to use the Labellerr SDK for video processing and scene detection. The SDK provides powerful tools for managing video datasets, processing videos, and detecting scene changes using various algorithms.\n",
    "\n",
    "### Import the required Classes from Labellerr SDK\n",
    "We'll start by importing the essential classes needed for working with the SDK:"
   ]
  },
  {
   "cell_type": "code",
   "execution_count": 1,
   "id": "edcdab6a",
   "metadata": {},
   "outputs": [],
   "source": [
    "from labellerr.client import LabellerrClient\n",
    "from labellerr.core.datasets import LabellerrDataset\n",
    "import os\n",
    "from tqdm.notebook import tqdm\n"
   ]
  },
  {
   "cell_type": "markdown",
   "id": "84b7917a",
   "metadata": {},
   "source": [
    "## 1. Authentication Setup\n",
    "\n",
    "Before using the Labellerr SDK, you need to set up your authentication credentials. These credentials ensure secure access to the Labellerr platform and its services.\n",
    "\n",
    "### Required Credentials:\n",
    "\n",
    "1. **API Key & API Secret**\n",
    "   - Log in to your Labellerr account\n",
    "   - Navigate to the \"Get API\" tab\n",
    "   - Copy your unique API key and secret\n",
    "\n",
    "2. **Client ID**\n",
    "   - This is a unique identifier for your application\n",
    "   - Contact Labellerr support to obtain your client ID\n",
    "   \n",
    "⚠️ Important: Never share these credentials or commit them to version control."
   ]
  },
  {
   "cell_type": "code",
   "execution_count": 2,
   "id": "ab12f168",
   "metadata": {},
   "outputs": [],
   "source": [
    "from dotenv import dotenv_values\n",
    "config = dotenv_values(\".env\")\n",
    "\n",
    "api_key = config[\"API_KEY\"]\n",
    "api_secret = config[\"API_SECRET\"]\n",
    "client_id = config[\"CLIENT_ID\"]"
   ]
  },
  {
   "cell_type": "markdown",
   "id": "3d05bd0f",
   "metadata": {},
   "source": [
    "## 2. Project Configuration\n",
    "\n",
    "### Dataset and Project IDs\n",
    "To work with specific datasets and projects in Labellerr, you need their respective IDs. These IDs are unique identifiers that link your code to the correct resources on the platform.\n",
    "\n",
    "How to obtain the IDs:\n",
    "1. Go to the Labellerr platform\n",
    "2. Create or select an existing dataset\n",
    "3. Create or select an existing project\n",
    "4. Copy the dataset_id and project_id from their respective pages\n",
    "\n",
    "Note: The dataset_id is a UUID format string, while the project_id is typically a human-readable string."
   ]
  },
  {
   "cell_type": "code",
   "execution_count": 3,
   "id": "07dcfae9",
   "metadata": {},
   "outputs": [],
   "source": [
    "# go to our platform to create dataset and project then get their ids\n",
    "dataset_id = \"16257fd6-b91b-4d00-a680-9ece9f3f241c\"\n",
    "project_id = \"gabrila_artificial_duck_74237\""
   ]
  },
  {
   "cell_type": "markdown",
   "id": "1b2c7aee",
   "metadata": {},
   "source": [
    "## 3. Initializing the Labellerr SDK\n",
    "\n",
    "### Create LabellerrClient Instance\n",
    "Now we'll create instances of the main SDK classes:\n",
    "\n",
    "1. **LabellerrClient**: The main client that handles communication with the Labellerr API\n",
    "2. **LabellerrDataset**: A specialized class for working with datasets\n",
    "\n",
    "These instances will be used for all subsequent operations with the platform."
   ]
  },
  {
   "cell_type": "code",
   "execution_count": 4,
   "id": "9eaec7e1",
   "metadata": {},
   "outputs": [],
   "source": [
    "client = LabellerrClient(api_key, api_secret, client_id) \n",
    "dataset = LabellerrDataset(client, dataset_id, project_id)"
   ]
  },
  {
   "cell_type": "code",
   "execution_count": 5,
   "id": "7b6a7052",
   "metadata": {},
   "outputs": [
    {
     "name": "stdout",
     "output_type": "stream",
     "text": [
      "\n",
      "######################################################################\n",
      "# Starting batch video processing for dataset: 16257fd6-b91b-4d00-a680-9ece9f3f241c\n",
      "######################################################################\n",
      "\n",
      "Total file IDs extracted: 1\n",
      "\n",
      "Creating LabellerrFile instances for 1 files...\n",
      "Successfully created 1 LabellerrFile instances\n",
      "\n",
      "Processing 1 video files...\n",
      "\n",
      "\n",
      "Starting download of 1 files...\n",
      "\n",
      "============================================================\n",
      "Processing file: c44f38f6-0186-436f-8c2d-ffb50a539c76\n",
      "============================================================\n",
      "\n",
      "[1/4] Fetching frame data from API (0 to 1440)...\n",
      "Retrieved 1440 frames\n",
      "\n",
      "[2/4] Setting up output folders...\n",
      "\n",
      "[3/4] Downloading frames...\n",
      "Starting download of 1440 frames...\n",
      "Frames downloaded: 1440/1440 (1440 successful, 0 failed)\n",
      "\n",
      "[4/4] Creating video from frames...\n",
      "Running command: ffmpeg -y -start_number 0 -framerate 30 -i ./Labellerr_datastets\\16257fd6-b91b-4d00-a680-9ece9f3f241c\\c44f38f6-0186-436f-8c2d-ffb50a539c76\\%d.jpg -c:v libx264 -pix_fmt yuv420p ./Labellerr_datastets\\16257fd6-b91b-4d00-a680-9ece9f3f241c\\c44f38f6-0186-436f-8c2d-ffb50a539c76.mp4\n",
      "Video saved as ./Labellerr_datastets\\16257fd6-b91b-4d00-a680-9ece9f3f241c\\c44f38f6-0186-436f-8c2d-ffb50a539c76.mp4\n",
      "\n",
      "Cleaning up temporary frames...\n",
      "Removed temporary frames folder: ./Labellerr_datastets\\16257fd6-b91b-4d00-a680-9ece9f3f241c\\c44f38f6-0186-436f-8c2d-ffb50a539c76\n",
      "\n",
      "============================================================\n",
      "✓ Processing complete!\n",
      "Video saved to: ./Labellerr_datastets\\16257fd6-b91b-4d00-a680-9ece9f3f241c\\c44f38f6-0186-436f-8c2d-ffb50a539c76.mp4\n",
      "============================================================\n",
      "\n",
      "Files processed: 1/1 (1 successful, 0 failed)\n",
      "######################################################################\n",
      "# Batch Processing Complete\n",
      "# Total files: 1\n",
      "# Successful: 1\n",
      "# Failed: 0\n",
      "######################################################################\n",
      "\n"
     ]
    }
   ],
   "source": [
    "results = dataset.download()"
   ]
  },
  {
   "cell_type": "markdown",
   "id": "900ea5a7",
   "metadata": {},
   "source": [
    "### download Videos\n",
    "The `download()` method will:\n",
    "- Fetch all videos in the dataset\n",
    "- Process them according to the configured settings\n",
    "- Return the results of the processing\n",
    "\n",
    "This is typically used as the first step in video analysis to ensure all videos are properly prepared for further processing."
   ]
  },
  {
   "cell_type": "markdown",
   "id": "f6db8522",
   "metadata": {},
   "source": [
    "## 4. Scene Change Detection\n",
    "\n",
    "### Available Scene Detection Methods\n",
    "Labellerr SDK provides multiple algorithms for scene detection in videos:\n",
    "\n",
    "1. **PySceneDetect**: \n",
    "   - Python-based scene detection\n",
    "   - Uses content-aware detection\n",
    "   - Good for general-purpose scene detection\n",
    "\n",
    "2. **SSIMSceneDetect**:\n",
    "   - Uses Structural Similarity Index (SSIM)\n",
    "   - Better for detecting subtle scene changes\n",
    "   - More computationally intensive but more accurate\n",
    "\n",
    "3. **FFMPEGSceneDetect**:\n",
    "   - Uses FFMPEG for scene detection\n",
    "   - Fastest method\n",
    "   - Good for quick analysis of large video files\n",
    "\n",
    "Choose the method that best suits your needs based on accuracy requirements and processing speed constraints."
   ]
  },
  {
   "cell_type": "code",
   "execution_count": 6,
   "id": "f5c41073",
   "metadata": {},
   "outputs": [],
   "source": [
    "from labellerr.services.video_sampling.pyscene_detect import PySceneDetect\n",
    "from labellerr.services.video_sampling.ssim import SSIMSceneDetect\n",
    "from labellerr.services.video_sampling.ffmpeg import FFMPEGSceneDetect"
   ]
  },
  {
   "cell_type": "markdown",
   "id": "db88da50",
   "metadata": {},
   "source": [
    "## Scene Detection Implementation\n",
    "\n",
    "### Setting up the Scene Detector\n",
    "Now we'll set up the scene detection process:\n",
    "\n",
    "1. First, we'll define the dataset directory where our videos are stored\n",
    "2. Then we'll create an instance of our chosen detector\n",
    "3. Finally, we'll process each video in the dataset\n",
    "\n",
    "Note: Make sure you have sufficient disk space for storing the extracted scenes, as this process can generate multiple files per video."
   ]
  },
  {
   "cell_type": "code",
   "execution_count": null,
   "id": "49a6f89d",
   "metadata": {},
   "outputs": [],
   "source": [
    "dataset_dir = f\".\\Labellerr_datasets\\{dataset_id}\""
   ]
  },
  {
   "cell_type": "code",
   "execution_count": 10,
   "id": "dd96be8c",
   "metadata": {},
   "outputs": [],
   "source": [
    "detector = FFMPEGSceneDetect()"
   ]
  },
  {
   "cell_type": "markdown",
   "id": "995d99ec",
   "metadata": {},
   "source": [
    "### Initialize the Scene Detector\n",
    "Here we create an instance of the SSIMSceneDetect class. This detector uses the Structural Similarity Index Measure (SSIM) to identify scene changes in videos. SSIM is particularly effective at detecting subtle changes between frames."
   ]
  },
  {
   "cell_type": "code",
   "execution_count": 11,
   "id": "a3052f25",
   "metadata": {},
   "outputs": [
    {
     "name": "stdout",
     "output_type": "stream",
     "text": [
      "Keyframes extracted to FFMPEG_detects\\16257fd6-b91b-4d00-a680-9ece9f3f241c\\c44f38f6-0186-436f-8c2d-ffb50a539c76\\frames\n",
      "JSON mapping saved to: FFMPEG_detects\\16257fd6-b91b-4d00-a680-9ece9f3f241c\\c44f38f6-0186-436f-8c2d-ffb50a539c76\\c44f38f6-0186-436f-8c2d-ffb50a539c76_mapping.json\n"
     ]
    }
   ],
   "source": [
    "for filename in os.listdir(dataset_dir):\n",
    "    file_path = os.path.join(dataset_dir, filename)\n",
    "    \n",
    "    if os.path.isfile(file_path):\n",
    "        detector.detect_and_extract(file_path)"
   ]
  },
  {
   "cell_type": "markdown",
   "id": "8d64ac26",
   "metadata": {},
   "source": [
    "### Process Videos for Scene Detection\n",
    "\n",
    "The following code block:\n",
    "1. Iterates through all files in the dataset directory\n",
    "2. Constructs the full file path for each video\n",
    "3. Verifies that each path points to a file (not a directory)\n",
    "4. Applies scene detection to each video using the `detect_and_extract` method\n",
    "\n",
    "The detected scenes will be saved in a subdirectory with the same name as the input video file. Each scene will be saved as a separate video file."
   ]
  },
  {
   "cell_type": "markdown",
   "id": "6c3eac46",
   "metadata": {},
   "source": [
    "## 5. Project Creation\n",
    "\n",
    "In this section, we'll explore how to create and manage projects in Labellerr. Projects are essential containers that organize your data and annotations. We'll cover:\n",
    "\n",
    "1. Creating image datasets from video frames\n",
    "2. Setting up annotation projects\n",
    "3. Managing project configurations"
   ]
  },
  {
   "cell_type": "markdown",
   "id": "f5ba527d",
   "metadata": {},
   "source": [
    "### Image Dataset Creation from Sampled Frames\n"
   ]
  },
  {
   "cell_type": "code",
   "execution_count": 13,
   "id": "1b364362",
   "metadata": {},
   "outputs": [
    {
     "name": "stdout",
     "output_type": "stream",
     "text": [
      "Found 52 image files\n"
     ]
    }
   ],
   "source": [
    "import os\n",
    "\n",
    "images_files = []\n",
    "# Clear existing entries in images_files\n",
    "images_files.clear()\n",
    "\n",
    "# Construct the base directory path for detected frames\n",
    "base_dir = os.path.join(\"FFMPEG_detects\", dataset_id)\n",
    "\n",
    "# Walk through all subdirectories\n",
    "for root, dirs, files in os.walk(base_dir):\n",
    "    for file in files:\n",
    "        if file.endswith('.jpg'):  # Only collect jpg files\n",
    "            file_path = os.path.join(root, file)\n",
    "            images_files.append(file_path)\n",
    "\n",
    "print(f\"Found {len(images_files)} image files\")"
   ]
  },
  {
   "cell_type": "code",
   "execution_count": 14,
   "id": "f39153ab",
   "metadata": {},
   "outputs": [
    {
     "data": {
      "text/plain": [
       "['FFMPEG_detects\\\\16257fd6-b91b-4d00-a680-9ece9f3f241c\\\\c44f38f6-0186-436f-8c2d-ffb50a539c76\\\\frames\\\\0.jpg',\n",
       " 'FFMPEG_detects\\\\16257fd6-b91b-4d00-a680-9ece9f3f241c\\\\c44f38f6-0186-436f-8c2d-ffb50a539c76\\\\frames\\\\1008.jpg',\n",
       " 'FFMPEG_detects\\\\16257fd6-b91b-4d00-a680-9ece9f3f241c\\\\c44f38f6-0186-436f-8c2d-ffb50a539c76\\\\frames\\\\1016.jpg',\n",
       " 'FFMPEG_detects\\\\16257fd6-b91b-4d00-a680-9ece9f3f241c\\\\c44f38f6-0186-436f-8c2d-ffb50a539c76\\\\frames\\\\1028.jpg',\n",
       " 'FFMPEG_detects\\\\16257fd6-b91b-4d00-a680-9ece9f3f241c\\\\c44f38f6-0186-436f-8c2d-ffb50a539c76\\\\frames\\\\1060.jpg',\n",
       " 'FFMPEG_detects\\\\16257fd6-b91b-4d00-a680-9ece9f3f241c\\\\c44f38f6-0186-436f-8c2d-ffb50a539c76\\\\frames\\\\1082.jpg',\n",
       " 'FFMPEG_detects\\\\16257fd6-b91b-4d00-a680-9ece9f3f241c\\\\c44f38f6-0186-436f-8c2d-ffb50a539c76\\\\frames\\\\1106.jpg',\n",
       " 'FFMPEG_detects\\\\16257fd6-b91b-4d00-a680-9ece9f3f241c\\\\c44f38f6-0186-436f-8c2d-ffb50a539c76\\\\frames\\\\1119.jpg',\n",
       " 'FFMPEG_detects\\\\16257fd6-b91b-4d00-a680-9ece9f3f241c\\\\c44f38f6-0186-436f-8c2d-ffb50a539c76\\\\frames\\\\1137.jpg',\n",
       " 'FFMPEG_detects\\\\16257fd6-b91b-4d00-a680-9ece9f3f241c\\\\c44f38f6-0186-436f-8c2d-ffb50a539c76\\\\frames\\\\1157.jpg',\n",
       " 'FFMPEG_detects\\\\16257fd6-b91b-4d00-a680-9ece9f3f241c\\\\c44f38f6-0186-436f-8c2d-ffb50a539c76\\\\frames\\\\1175.jpg',\n",
       " 'FFMPEG_detects\\\\16257fd6-b91b-4d00-a680-9ece9f3f241c\\\\c44f38f6-0186-436f-8c2d-ffb50a539c76\\\\frames\\\\1189.jpg',\n",
       " 'FFMPEG_detects\\\\16257fd6-b91b-4d00-a680-9ece9f3f241c\\\\c44f38f6-0186-436f-8c2d-ffb50a539c76\\\\frames\\\\119.jpg',\n",
       " 'FFMPEG_detects\\\\16257fd6-b91b-4d00-a680-9ece9f3f241c\\\\c44f38f6-0186-436f-8c2d-ffb50a539c76\\\\frames\\\\1201.jpg',\n",
       " 'FFMPEG_detects\\\\16257fd6-b91b-4d00-a680-9ece9f3f241c\\\\c44f38f6-0186-436f-8c2d-ffb50a539c76\\\\frames\\\\1218.jpg',\n",
       " 'FFMPEG_detects\\\\16257fd6-b91b-4d00-a680-9ece9f3f241c\\\\c44f38f6-0186-436f-8c2d-ffb50a539c76\\\\frames\\\\1233.jpg',\n",
       " 'FFMPEG_detects\\\\16257fd6-b91b-4d00-a680-9ece9f3f241c\\\\c44f38f6-0186-436f-8c2d-ffb50a539c76\\\\frames\\\\1246.jpg',\n",
       " 'FFMPEG_detects\\\\16257fd6-b91b-4d00-a680-9ece9f3f241c\\\\c44f38f6-0186-436f-8c2d-ffb50a539c76\\\\frames\\\\1257.jpg',\n",
       " 'FFMPEG_detects\\\\16257fd6-b91b-4d00-a680-9ece9f3f241c\\\\c44f38f6-0186-436f-8c2d-ffb50a539c76\\\\frames\\\\1278.jpg',\n",
       " 'FFMPEG_detects\\\\16257fd6-b91b-4d00-a680-9ece9f3f241c\\\\c44f38f6-0186-436f-8c2d-ffb50a539c76\\\\frames\\\\1312.jpg',\n",
       " 'FFMPEG_detects\\\\16257fd6-b91b-4d00-a680-9ece9f3f241c\\\\c44f38f6-0186-436f-8c2d-ffb50a539c76\\\\frames\\\\1319.jpg',\n",
       " 'FFMPEG_detects\\\\16257fd6-b91b-4d00-a680-9ece9f3f241c\\\\c44f38f6-0186-436f-8c2d-ffb50a539c76\\\\frames\\\\141.jpg',\n",
       " 'FFMPEG_detects\\\\16257fd6-b91b-4d00-a680-9ece9f3f241c\\\\c44f38f6-0186-436f-8c2d-ffb50a539c76\\\\frames\\\\233.jpg',\n",
       " 'FFMPEG_detects\\\\16257fd6-b91b-4d00-a680-9ece9f3f241c\\\\c44f38f6-0186-436f-8c2d-ffb50a539c76\\\\frames\\\\263.jpg',\n",
       " 'FFMPEG_detects\\\\16257fd6-b91b-4d00-a680-9ece9f3f241c\\\\c44f38f6-0186-436f-8c2d-ffb50a539c76\\\\frames\\\\37.jpg',\n",
       " 'FFMPEG_detects\\\\16257fd6-b91b-4d00-a680-9ece9f3f241c\\\\c44f38f6-0186-436f-8c2d-ffb50a539c76\\\\frames\\\\381.jpg',\n",
       " 'FFMPEG_detects\\\\16257fd6-b91b-4d00-a680-9ece9f3f241c\\\\c44f38f6-0186-436f-8c2d-ffb50a539c76\\\\frames\\\\408.jpg',\n",
       " 'FFMPEG_detects\\\\16257fd6-b91b-4d00-a680-9ece9f3f241c\\\\c44f38f6-0186-436f-8c2d-ffb50a539c76\\\\frames\\\\437.jpg',\n",
       " 'FFMPEG_detects\\\\16257fd6-b91b-4d00-a680-9ece9f3f241c\\\\c44f38f6-0186-436f-8c2d-ffb50a539c76\\\\frames\\\\457.jpg',\n",
       " 'FFMPEG_detects\\\\16257fd6-b91b-4d00-a680-9ece9f3f241c\\\\c44f38f6-0186-436f-8c2d-ffb50a539c76\\\\frames\\\\484.jpg',\n",
       " 'FFMPEG_detects\\\\16257fd6-b91b-4d00-a680-9ece9f3f241c\\\\c44f38f6-0186-436f-8c2d-ffb50a539c76\\\\frames\\\\508.jpg',\n",
       " 'FFMPEG_detects\\\\16257fd6-b91b-4d00-a680-9ece9f3f241c\\\\c44f38f6-0186-436f-8c2d-ffb50a539c76\\\\frames\\\\552.jpg',\n",
       " 'FFMPEG_detects\\\\16257fd6-b91b-4d00-a680-9ece9f3f241c\\\\c44f38f6-0186-436f-8c2d-ffb50a539c76\\\\frames\\\\575.jpg',\n",
       " 'FFMPEG_detects\\\\16257fd6-b91b-4d00-a680-9ece9f3f241c\\\\c44f38f6-0186-436f-8c2d-ffb50a539c76\\\\frames\\\\590.jpg',\n",
       " 'FFMPEG_detects\\\\16257fd6-b91b-4d00-a680-9ece9f3f241c\\\\c44f38f6-0186-436f-8c2d-ffb50a539c76\\\\frames\\\\619.jpg',\n",
       " 'FFMPEG_detects\\\\16257fd6-b91b-4d00-a680-9ece9f3f241c\\\\c44f38f6-0186-436f-8c2d-ffb50a539c76\\\\frames\\\\63.jpg',\n",
       " 'FFMPEG_detects\\\\16257fd6-b91b-4d00-a680-9ece9f3f241c\\\\c44f38f6-0186-436f-8c2d-ffb50a539c76\\\\frames\\\\647.jpg',\n",
       " 'FFMPEG_detects\\\\16257fd6-b91b-4d00-a680-9ece9f3f241c\\\\c44f38f6-0186-436f-8c2d-ffb50a539c76\\\\frames\\\\683.jpg',\n",
       " 'FFMPEG_detects\\\\16257fd6-b91b-4d00-a680-9ece9f3f241c\\\\c44f38f6-0186-436f-8c2d-ffb50a539c76\\\\frames\\\\706.jpg',\n",
       " 'FFMPEG_detects\\\\16257fd6-b91b-4d00-a680-9ece9f3f241c\\\\c44f38f6-0186-436f-8c2d-ffb50a539c76\\\\frames\\\\721.jpg',\n",
       " 'FFMPEG_detects\\\\16257fd6-b91b-4d00-a680-9ece9f3f241c\\\\c44f38f6-0186-436f-8c2d-ffb50a539c76\\\\frames\\\\758.jpg',\n",
       " 'FFMPEG_detects\\\\16257fd6-b91b-4d00-a680-9ece9f3f241c\\\\c44f38f6-0186-436f-8c2d-ffb50a539c76\\\\frames\\\\776.jpg',\n",
       " 'FFMPEG_detects\\\\16257fd6-b91b-4d00-a680-9ece9f3f241c\\\\c44f38f6-0186-436f-8c2d-ffb50a539c76\\\\frames\\\\805.jpg',\n",
       " 'FFMPEG_detects\\\\16257fd6-b91b-4d00-a680-9ece9f3f241c\\\\c44f38f6-0186-436f-8c2d-ffb50a539c76\\\\frames\\\\823.jpg',\n",
       " 'FFMPEG_detects\\\\16257fd6-b91b-4d00-a680-9ece9f3f241c\\\\c44f38f6-0186-436f-8c2d-ffb50a539c76\\\\frames\\\\83.jpg',\n",
       " 'FFMPEG_detects\\\\16257fd6-b91b-4d00-a680-9ece9f3f241c\\\\c44f38f6-0186-436f-8c2d-ffb50a539c76\\\\frames\\\\836.jpg',\n",
       " 'FFMPEG_detects\\\\16257fd6-b91b-4d00-a680-9ece9f3f241c\\\\c44f38f6-0186-436f-8c2d-ffb50a539c76\\\\frames\\\\858.jpg',\n",
       " 'FFMPEG_detects\\\\16257fd6-b91b-4d00-a680-9ece9f3f241c\\\\c44f38f6-0186-436f-8c2d-ffb50a539c76\\\\frames\\\\876.jpg',\n",
       " 'FFMPEG_detects\\\\16257fd6-b91b-4d00-a680-9ece9f3f241c\\\\c44f38f6-0186-436f-8c2d-ffb50a539c76\\\\frames\\\\893.jpg',\n",
       " 'FFMPEG_detects\\\\16257fd6-b91b-4d00-a680-9ece9f3f241c\\\\c44f38f6-0186-436f-8c2d-ffb50a539c76\\\\frames\\\\915.jpg',\n",
       " 'FFMPEG_detects\\\\16257fd6-b91b-4d00-a680-9ece9f3f241c\\\\c44f38f6-0186-436f-8c2d-ffb50a539c76\\\\frames\\\\949.jpg',\n",
       " 'FFMPEG_detects\\\\16257fd6-b91b-4d00-a680-9ece9f3f241c\\\\c44f38f6-0186-436f-8c2d-ffb50a539c76\\\\frames\\\\99.jpg']"
      ]
     },
     "execution_count": 14,
     "metadata": {},
     "output_type": "execute_result"
    }
   ],
   "source": [
    "images_files"
   ]
  },
  {
   "cell_type": "code",
   "execution_count": 15,
   "id": "40c70986",
   "metadata": {},
   "outputs": [],
   "source": [
    "# code to create dataset from sampled frames\n",
    "\n",
    "def upload_images_from_files(images_files, client, client_id):\n",
    "    \"\"\"Upload specific image files to create a dataset\"\"\"\n",
    "    \n",
    "    client.enable_connection_pooling = True\n",
    "    \n",
    "    dataset_config = {\n",
    "        \"client_id\": client_id,\n",
    "        \"dataset_name\": \"video_sampling_1\",\n",
    "        \"dataset_description\": \"video sampling dataset from frames\",\n",
    "        \"data_type\": \"image\",  \n",
    "    }\n",
    "    \n",
    "    try:\n",
    "        response = client.create_dataset(\n",
    "            dataset_config=dataset_config,\n",
    "            files_to_upload=images_files  \n",
    "        )\n",
    "        print(f\"Dataset created successfully!\")\n",
    "        print(f\"Dataset ID: {response['dataset_id']}\")\n",
    "        return response['dataset_id']\n",
    "    except Exception as e:\n",
    "        print(f\"Error creating dataset: {e}\")"
   ]
  },
  {
   "cell_type": "code",
   "execution_count": 16,
   "id": "a1d96b25",
   "metadata": {},
   "outputs": [
    {
     "name": "stdout",
     "output_type": "stream",
     "text": [
      "Dataset created successfully!\n",
      "Dataset ID: 6a680901-fe81-49f0-9120-bb754d63a341\n"
     ]
    },
    {
     "data": {
      "text/plain": [
       "'6a680901-fe81-49f0-9120-bb754d63a341'"
      ]
     },
     "execution_count": 16,
     "metadata": {},
     "output_type": "execute_result"
    }
   ],
   "source": [
    "upload_images_from_files(images_files, client, client_id)"
   ]
  },
  {
   "cell_type": "code",
   "execution_count": 19,
   "id": "958fc75e",
   "metadata": {},
   "outputs": [],
   "source": [
    "new_dataset_id = '6a680901-fe81-49f0-9120-bb754d63a341'"
   ]
  },
  {
   "cell_type": "markdown",
   "id": "b454c4f4",
   "metadata": {},
   "source": [
    "### Image Annotation Project Creation"
   ]
  },
  {
   "cell_type": "code",
   "execution_count": null,
   "id": "d32106c5",
   "metadata": {},
   "outputs": [],
   "source": [
    "# modify to add questions to image project\n",
    "\n",
    "questions = [\n",
    "  {\n",
    "    \"question_number\": 1,\n",
    "    \"question\": \"Test\",\n",
    "    \"question_id\": \"533bb0c8-fb2b-4394-a8e1-5042a944802f\",\n",
    "    \"option_type\": \"polygon\",\n",
    "    \"required\": True,\n",
    "    \"options\": [\n",
    "      { \"option_name\": \"#fe1236\" }\n",
    "    ],\n",
    "    \"question_metadata\": []\n",
    "  }\n",
    "            ]\n"
   ]
  },
  {
   "cell_type": "code",
   "execution_count": null,
   "id": "b71d2aa0",
   "metadata": {},
   "outputs": [],
   "source": [
    "# creeate the annotation guideline template\n",
    "\n",
    "template_id = client.create_annotation_guideline(\n",
    "    client_id=client_id,\n",
    "    questions=questions,\n",
    "    template_name=\"video_sampling_template_1\",\n",
    "    data_type=\"image\",\n",
    ")\n"
   ]
  },
  {
   "cell_type": "code",
   "execution_count": null,
   "id": "83565ec3",
   "metadata": {},
   "outputs": [],
   "source": [
    "# create the image annotation project\n",
    "\n",
    "response = client.create_project(\n",
    "                project_name=\"Video_sampling_project_1\",\n",
    "                data_type=\"image\",\n",
    "                client_id= client_id,\n",
    "                dataset_id=new_dataset_id,\n",
    "                annotation_template_id=template_id,\n",
    "                rotation_config={\n",
    "                    \"annotation_rotation_count\": 1,\n",
    "                    \"review_rotation_count\": 1,\n",
    "                    \"client_review_rotation_count\": 1,\n",
    "                },\n",
    "                created_by=\"yashsuman15@gmail.com\"\n",
    "            )\n"
   ]
  },
  {
   "cell_type": "code",
   "execution_count": 31,
   "id": "9f682f4f",
   "metadata": {},
   "outputs": [
    {
     "name": "stdout",
     "output_type": "stream",
     "text": [
      "Project created successfully!\n",
      "Project ID: sherri_puny_rattlesnake_84247\n"
     ]
    }
   ],
   "source": [
    "if response['response']['project_id']:\n",
    "    print(f\"Project created successfully!\")\n",
    "    print(f\"Project ID: {response['response']['project_id']}\")\n",
    "    image_project_id = response['response']['project_id']"
   ]
  },
  {
   "cell_type": "markdown",
   "id": "8645aa60",
   "metadata": {},
   "source": [
    "## 6. Performing Annotations of Image Project"
   ]
  },
  {
   "cell_type": "code",
   "execution_count": null,
   "id": "d6eea565",
   "metadata": {},
   "outputs": [],
   "source": [
    "# annotations of image project on labellerr platform"
   ]
  },
  {
   "cell_type": "markdown",
   "id": "8f0611f5",
   "metadata": {},
   "source": [
    "### Exporting the Annotation Data"
   ]
  },
  {
   "cell_type": "code",
   "execution_count": null,
   "id": "b78ad296",
   "metadata": {},
   "outputs": [],
   "source": [
    "# code to export the annotations from image project\n",
    "\n",
    "export_config = {\n",
    "        \"export_name\": \"Weekly Export\",\n",
    "        \"export_description\": \"Export of all accepted annotations\",\n",
    "        \"export_format\": \"coco_json\",\n",
    "        \"statuses\": [\n",
    "            \"review\",\n",
    "            \"r_assigned\",\n",
    "            \"client_review\",\n",
    "            \"cr_assigned\",\n",
    "            \"accepted\",\n",
    "        ],\n",
    "    }\n",
    "\n",
    "\n",
    "response = client.create_local_export(\n",
    "    project_id=image_project_id,\n",
    "    client_id=client_id,\n",
    "    export_config=export_config\n",
    ")"
   ]
  },
  {
   "cell_type": "markdown",
   "id": "18529760",
   "metadata": {},
   "source": [
    "## 7. Uploading annotations to Video Project"
   ]
  },
  {
   "cell_type": "markdown",
   "id": "deae26b8",
   "metadata": {},
   "source": [
    "### Trigger SAM2 tracking on Video annotation project\n",
    "\n",
    "Using the export, retrive the prompt to run SAM2 tracking on video"
   ]
  },
  {
   "cell_type": "code",
   "execution_count": 12,
   "id": "df6b3ac7",
   "metadata": {},
   "outputs": [],
   "source": [
    "# code to create video annotation project from image annotations export"
   ]
  }
 ],
 "metadata": {
  "kernelspec": {
   "display_name": "SDk",
   "language": "python",
   "name": "python3"
  },
  "language_info": {
   "codemirror_mode": {
    "name": "ipython",
    "version": 3
   },
   "file_extension": ".py",
   "mimetype": "text/x-python",
   "name": "python",
   "nbconvert_exporter": "python",
   "pygments_lexer": "ipython3",
   "version": "3.10.18"
  }
 },
 "nbformat": 4,
 "nbformat_minor": 5
}
